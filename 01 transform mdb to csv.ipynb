{
 "cells": [
  {
   "cell_type": "code",
   "execution_count": 1,
   "metadata": {},
   "outputs": [
    {
     "name": "stdout",
     "output_type": "stream",
     "text": [
      "caso2_2016.mdb ESITI scritta in caso2_2016_ESITI.csv: 17177 righe, 33 colonne\n",
      "caso2_2017.mdb ESITI scritta in caso2_2017_ESITI.csv: 57687 righe, 33 colonne\n",
      "caso2_2018.mdb ESITI scritta in caso2_2018_ESITI.csv: 60922 righe, 33 colonne\n",
      "caso2_2019.mdb ESITI scritta in caso2_2019_ESITI.csv: 121710 righe, 33 colonne\n",
      "caso2_2020.mdb ESITI scritta in caso2_2020_ESITI.csv: 39109 righe, 33 colonne\n",
      "Dataset completo scritto in caso2_ALL_ESITI.csv: 296605 righe, 33 colonne\n"
     ]
    }
   ],
   "source": [
    "import os, pyodbc\n",
    "import pandas as pd\n",
    "\n",
    "#spostare il path su C: per diminuire il tempo di esecuzione\n",
    "path = r'E:\\Intenso\\02 Data Science - Bicocca\\03 II Anno\\II Semestre\\Industry Lab\\19-20\\DB Bosch'\n",
    "files = ['caso2_2016.mdb', 'caso2_2017.mdb', 'caso2_2018.mdb', 'caso2_2019.mdb', 'caso2_2020.mdb']\n",
    "all_data = pd.DataFrame()\n",
    "\n",
    "for file in files:\n",
    "    #stabilire connessione tramite il driver ODBC di Microsoft Access\n",
    "    conn_string = \"DRIVER={Microsoft Access Driver (*.mdb, *.accdb)};DBQ=\" + os.path.join(path, file)\n",
    "    conn = pyodbc.connect(conn_string)\n",
    "    \n",
    "    #ricerca tabella presente (escluse quelle di sistema) e inserimento dell'intero contenuto in un dataframe\n",
    "    cur = conn.cursor()\n",
    "    for row in cur.tables():\n",
    "        if (row.table_name.find(\"MSys\")==-1):\n",
    "            query = \"SELECT * FROM \" + row.table_name + \";\"\n",
    "            df = pd.read_sql(query, conn)\n",
    "            \n",
    "            #scrittura dataframe in un file csv\n",
    "            name_file_csv = file.split(\".\")[0] + \"_\" + row.table_name + \".csv\"\n",
    "            df.to_csv(os.path.join(path, name_file_csv), index_label=False)\n",
    "            print(file + \" \" + row.table_name + \" scritta in \" + name_file_csv + \": \" + str(df.shape[0]) + \" righe, \" + str(df.shape[1]) + \" colonne\")\n",
    "            \n",
    "            #concatenazione record nel dataframe completo\n",
    "            all_data = pd.concat([all_data, df])\n",
    "    \n",
    "    cur.close()\n",
    "    conn.close()\n",
    "\n",
    "#scrittura dataframe completo in un file csv\n",
    "name_file_csv = \"caso2_ALL_ESITI.csv\"\n",
    "all_data.to_csv(os.path.join(path, name_file_csv), index_label=False)\n",
    "print(\"Dataset completo scritto in \" + name_file_csv + \": \" + str(all_data.shape[0]) + \" righe, \" + str(all_data.shape[1]) + \" colonne\")"
   ]
  }
 ],
 "metadata": {
  "kernelspec": {
   "display_name": "Python 3",
   "language": "python",
   "name": "python3"
  },
  "language_info": {
   "codemirror_mode": {
    "name": "ipython",
    "version": 3
   },
   "file_extension": ".py",
   "mimetype": "text/x-python",
   "name": "python",
   "nbconvert_exporter": "python",
   "pygments_lexer": "ipython3",
   "version": "3.7.3"
  }
 },
 "nbformat": 4,
 "nbformat_minor": 2
}
